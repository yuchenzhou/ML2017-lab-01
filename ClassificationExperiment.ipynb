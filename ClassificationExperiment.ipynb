{
 "cells": [
  {
   "cell_type": "code",
   "execution_count": 1,
   "metadata": {},
   "outputs": [
    {
     "data": {
      "image/png": "[encoded data removed]",
      "text/plain": [
       "<matplotlib.figure.Figure at 0x1eb11b2fe10>"
      ]
     },
     "metadata": {},
     "output_type": "display_data"
    }
   ],
   "source": [
    "import numpy as np\n",
    "from sklearn.externals.joblib import Memory\n",
    "from sklearn.datasets import load_svmlight_file\n",
    "from sklearn.model_selection import train_test_split\n",
    "from scipy.linalg.misc import norm\n",
    "import matplotlib.pyplot as plt\n",
    "from numpy import *\n",
    "\n",
    "#数据读取和分割\n",
    "data = load_svmlight_file(\"australian.txt\")\n",
    "x = data[0]\n",
    "y = data[1]\n",
    "x = x.toarray()\n",
    "y = y.T\n",
    "x_train,x_test,y_train,y_test = train_test_split(x,y,test_size=0.33, random_state=1)\n",
    "\n",
    "#学习率、C、权重的设置\n",
    "rating = 0.01\n",
    "C = 1000\n",
    "weight = np.ones(15)\n",
    "\n",
    "#训练集和测试集的长度\n",
    "train_length = int(x_train.size/14)\n",
    "test_length = int(x_test.size/14)\n",
    "\n",
    "#测试集和训练集的截距设置\n",
    "weight0  = np.ones(train_length)\n",
    "weight1  = np.ones(test_length)\n",
    "x_train = np.column_stack([x_train,weight0])\n",
    "x_test = np.column_stack([x_test,weight1])\n",
    "\n",
    "#训练集和测试集的loss数组\n",
    "loss_train = np.array([])\n",
    "loss_test = np.array([])\n",
    "\n",
    "#定义分类器\n",
    "def svm_classification(x,y,length,weight,rating,C,number,loss):\n",
    "    for i in range(number):\n",
    "        temp = 0\n",
    "        max_value = 0\n",
    "        for j in range(length):\n",
    "            #判断max(0,1(y*(w*x+b)))\n",
    "            alpha = 1 - np.dot(y[j],np.dot(weight.T,x[j].T))\n",
    "            if(alpha <= 0):\n",
    "                gradient =  1/C * weight\n",
    "            if(alpha > 0):\n",
    "                gradient = 1/C *weight -  np.dot(x[j].T,y[j])\n",
    "                max_value = max_value + alpha\n",
    "            weight =  weight - rating * gradient\n",
    "            y_p = np.dot(weight.T,x[j].T)\n",
    "            #验证预测结果(阈值设定)\n",
    "            if(y_p >= 1):\n",
    "                y_predict = 1.0\n",
    "            if(y_p <= -1):\n",
    "                y_predict = -1.0\n",
    "            if(y_predict == y[j]):\n",
    "                temp = temp + 1\n",
    "        #准确率\n",
    "        #print(\"准确率：\")\n",
    "        #print(temp/length)\n",
    "        #loss计算\n",
    "        loss = np.append(loss,np.dot(weight,weight)/2 + max_value)\n",
    "    return loss/length,weight\n",
    "\n",
    "#训练和测试\n",
    "loss_train,weight = svm_classification(x_train,y_train,train_length,weight,rating,C,500,loss_train)\n",
    "loss_test,weight = svm_classification(x_test,y_test,test_length,weight,rating,C,500,loss_test)\n",
    "\n",
    "#图显示\n",
    "plt.figure()\n",
    "#蓝色的为训练集，红色的为测试集\n",
    "plt.plot(loss_train,'blue',label='loss_train')\n",
    "plt.plot(loss_test,'red',label='loss_validation')\n",
    "plt.legend()\n",
    "plt.show()\n"
   ]
  },
  {
   "cell_type": "code",
   "execution_count": null,
   "metadata": {
    "collapsed": true
   },
   "outputs": [],
   "source": []
  }
 ],
 "metadata": {
  "kernelspec": {
   "display_name": "Python 3",
   "language": "python",
   "name": "python3"
  },
  "language_info": {
   "codemirror_mode": {
    "name": "ipython",
    "version": 3
   },
   "file_extension": ".py",
   "mimetype": "text/x-python",
   "name": "python",
   "nbconvert_exporter": "python",
   "pygments_lexer": "ipython3",
   "version": "3.6.3"
  }
 },
 "nbformat": 4,
 "nbformat_minor": 2
}
