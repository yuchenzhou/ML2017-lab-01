{
 "cells": [
  {
   "cell_type": "code",
   "execution_count": 1,
   "metadata": {},
   "outputs": [
    {
     "data": {
      "image/png": "[encoded data removed]",
      "text/plain": [
       "<matplotlib.figure.Figure at 0x29a2aafa390>"
      ]
     },
     "metadata": {},
     "output_type": "display_data"
    }
   ],
   "source": [
    "import numpy as np\n",
    "from sklearn.externals.joblib import Memory\n",
    "from sklearn.datasets import load_svmlight_file\n",
    "from sklearn.model_selection import train_test_split\n",
    "import matplotlib.pyplot as plt\n",
    "\n",
    "#数据读取和分割\n",
    "data = load_svmlight_file(\"housing.txt\")\n",
    "x = data[0]\n",
    "y = data[1]\n",
    "x = x.toarray()\n",
    "y = y.T\n",
    "x_train,x_test,y_train,y_test = train_test_split(x,y,test_size=0.33, random_state=1)\n",
    "\n",
    "#学习率、C、权重的设置\n",
    "rating = 0.01\n",
    "weight = np.ones(14)\n",
    "\n",
    "#训练集和测试集的长度\n",
    "train_length = int(x_train.size/13)\n",
    "test_length = int(x_test.size/13)\n",
    "\n",
    "#测试集和训练集的截距设置\n",
    "weight0  = np.ones(train_length)\n",
    "weight1  = np.ones(test_length)\n",
    "x_train = np.column_stack([x_train,weight0])\n",
    "x_test = np.column_stack([x_test,weight1])\n",
    "\n",
    "#训练集和测试集的loss数组\n",
    "loss_train = np.array([])\n",
    "loss_test = np.array([])\n",
    "\n",
    "#定义线性回归模型\n",
    "def linear_regression(x,y,length,weight,rating,number,loss):\n",
    "    for i in range(number):\n",
    "        gradient = (np.dot(np.dot(x.T, x),weight) - np.dot(x.T , y))/(length*2)\n",
    "        weight =  weight - rating * gradient\n",
    "        y_predict = np.dot(weight.T,x.T)\n",
    "        loss = np.append(loss,np.dot(y_predict - y,y_predict - y)/(2*length))\n",
    "    return loss,weight\n",
    "\n",
    "#训练和测试\n",
    "loss_train,weight = linear_regression(x_train,y_train,train_length,weight,rating,5000,loss_train)\n",
    "loss_test,weight = linear_regression(x_test,y_test,test_length,weight,rating,5000,loss_test)\n",
    "\n",
    "#图显示\n",
    "plt.figure()\n",
    "#蓝色的为训练集，红色的为测试集\n",
    "plt.plot(loss_train,'blue',label='loss_train')\n",
    "plt.plot(loss_test,'red',label='loss_validation')\n",
    "plt.legend()\n",
    "plt.show()\n"
   ]
  },
  {
   "cell_type": "code",
   "execution_count": null,
   "metadata": {
    "collapsed": true
   },
   "outputs": [],
   "source": []
  }
 ],
 "metadata": {
  "kernelspec": {
   "display_name": "Python 3",
   "language": "python",
   "name": "python3"
  },
  "language_info": {
   "codemirror_mode": {
    "name": "ipython",
    "version": 3
   },
   "file_extension": ".py",
   "mimetype": "text/x-python",
   "name": "python",
   "nbconvert_exporter": "python",
   "pygments_lexer": "ipython3",
   "version": "3.6.3"
  }
 },
 "nbformat": 4,
 "nbformat_minor": 2
}
